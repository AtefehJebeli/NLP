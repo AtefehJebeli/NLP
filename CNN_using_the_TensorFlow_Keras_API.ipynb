{
  "nbformat": 4,
  "nbformat_minor": 0,
  "metadata": {
    "kernelspec": {
      "display_name": "Python 3",
      "language": "python",
      "name": "python3"
    },
    "language_info": {
      "codemirror_mode": {
        "name": "ipython",
        "version": 3
      },
      "file_extension": ".py",
      "mimetype": "text/x-python",
      "name": "python",
      "nbconvert_exporter": "python",
      "pygments_lexer": "ipython3",
      "version": "3.7.1"
    },
    "colab": {
      "name": "CNN using the TensorFlow Keras API.ipynb",
      "provenance": []
    }
  },
  "cells": [
    {
      "cell_type": "markdown",
      "metadata": {
        "id": "Jdu1xeu_Dr5w"
      },
      "source": [
        "###  Implementing a CNN using the TensorFlow Keras API\n",
        "\n",
        "#### Configuring CNN layers in Keras\n",
        "\n",
        " * **Conv2D:** tf.keras.layers.Conv2D\n",
        "   * filters\n",
        "   * kernel_size\n",
        "   * strides\n",
        "   * padding\n",
        "   \n",
        "   \n",
        " * **MaxPool2D:** tf.keras.layers.MaxPool2D\n",
        "   * pool_size\n",
        "   * strides\n",
        "   * padding\n",
        "   \n",
        "   \n",
        " * **Dropout** tf.keras.layers.Dropout2D\n",
        "   * rate"
      ]
    },
    {
      "cell_type": "code",
      "metadata": {
        "id": "v3MZSAPDomC8",
        "colab": {
          "base_uri": "https://localhost:8080/"
        },
        "outputId": "ab4d9d30-cbd7-4de3-bad2-d3f6bd82523f"
      },
      "source": [
        "! pip install tensorflow-datasets"
      ],
      "execution_count": 2,
      "outputs": [
        {
          "output_type": "stream",
          "name": "stdout",
          "text": [
            "Requirement already satisfied: tensorflow-datasets in /usr/local/lib/python3.7/dist-packages (4.0.1)\n",
            "Requirement already satisfied: importlib-resources in /usr/local/lib/python3.7/dist-packages (from tensorflow-datasets) (5.2.2)\n",
            "Requirement already satisfied: requests>=2.19.0 in /usr/local/lib/python3.7/dist-packages (from tensorflow-datasets) (2.23.0)\n",
            "Requirement already satisfied: absl-py in /usr/local/lib/python3.7/dist-packages (from tensorflow-datasets) (0.12.0)\n",
            "Requirement already satisfied: promise in /usr/local/lib/python3.7/dist-packages (from tensorflow-datasets) (2.3)\n",
            "Requirement already satisfied: protobuf>=3.6.1 in /usr/local/lib/python3.7/dist-packages (from tensorflow-datasets) (3.17.3)\n",
            "Requirement already satisfied: dm-tree in /usr/local/lib/python3.7/dist-packages (from tensorflow-datasets) (0.1.6)\n",
            "Requirement already satisfied: numpy in /usr/local/lib/python3.7/dist-packages (from tensorflow-datasets) (1.19.5)\n",
            "Requirement already satisfied: tensorflow-metadata in /usr/local/lib/python3.7/dist-packages (from tensorflow-datasets) (1.2.0)\n",
            "Requirement already satisfied: termcolor in /usr/local/lib/python3.7/dist-packages (from tensorflow-datasets) (1.1.0)\n",
            "Requirement already satisfied: future in /usr/local/lib/python3.7/dist-packages (from tensorflow-datasets) (0.16.0)\n",
            "Requirement already satisfied: tqdm in /usr/local/lib/python3.7/dist-packages (from tensorflow-datasets) (4.62.2)\n",
            "Requirement already satisfied: six in /usr/local/lib/python3.7/dist-packages (from tensorflow-datasets) (1.15.0)\n",
            "Requirement already satisfied: dill in /usr/local/lib/python3.7/dist-packages (from tensorflow-datasets) (0.3.4)\n",
            "Requirement already satisfied: attrs>=18.1.0 in /usr/local/lib/python3.7/dist-packages (from tensorflow-datasets) (21.2.0)\n",
            "Requirement already satisfied: idna<3,>=2.5 in /usr/local/lib/python3.7/dist-packages (from requests>=2.19.0->tensorflow-datasets) (2.10)\n",
            "Requirement already satisfied: certifi>=2017.4.17 in /usr/local/lib/python3.7/dist-packages (from requests>=2.19.0->tensorflow-datasets) (2021.5.30)\n",
            "Requirement already satisfied: chardet<4,>=3.0.2 in /usr/local/lib/python3.7/dist-packages (from requests>=2.19.0->tensorflow-datasets) (3.0.4)\n",
            "Requirement already satisfied: urllib3!=1.25.0,!=1.25.1,<1.26,>=1.21.1 in /usr/local/lib/python3.7/dist-packages (from requests>=2.19.0->tensorflow-datasets) (1.24.3)\n",
            "Requirement already satisfied: zipp>=3.1.0 in /usr/local/lib/python3.7/dist-packages (from importlib-resources->tensorflow-datasets) (3.5.0)\n",
            "Requirement already satisfied: googleapis-common-protos<2,>=1.52.0 in /usr/local/lib/python3.7/dist-packages (from tensorflow-metadata->tensorflow-datasets) (1.53.0)\n"
          ]
        }
      ]
    },
    {
      "cell_type": "code",
      "metadata": {
        "id": "i1kUCE2iDr5m"
      },
      "source": [
        "import tensorflow_datasets as tfds\n",
        "import pandas as pd\n",
        "\n",
        "import matplotlib.pyplot as plt\n",
        "%matplotlib inline"
      ],
      "execution_count": 9,
      "outputs": []
    },
    {
      "cell_type": "code",
      "metadata": {
        "id": "Q_S9WSNlDr5o",
        "colab": {
          "base_uri": "https://localhost:8080/"
        },
        "outputId": "194bd667-01f5-4361-937b-8630e2d66119"
      },
      "source": [
        "## MNIST dataset\n",
        "\n",
        "mnist_bldr = tfds.builder('mnist')\n",
        "mnist_bldr.download_and_prepare()\n",
        "datasets = mnist_bldr.as_dataset(shuffle_files=False)\n",
        "print(datasets.keys())\n",
        "mnist_train_orig, mnist_test_orig = datasets['train'], datasets['test']"
      ],
      "execution_count": 10,
      "outputs": [
        {
          "output_type": "stream",
          "name": "stdout",
          "text": [
            "dict_keys(['test', 'train'])\n"
          ]
        }
      ]
    },
    {
      "cell_type": "code",
      "metadata": {
        "id": "tUZULa-JDr5r"
      },
      "source": [
        "BUFFER_SIZE = 10000\n",
        "BATCH_SIZE = 64\n",
        "NUM_EPOCHS = 20"
      ],
      "execution_count": 11,
      "outputs": []
    },
    {
      "cell_type": "code",
      "metadata": {
        "id": "EqHJrYBGpLT4"
      },
      "source": [
        "import tensorflow as tf"
      ],
      "execution_count": 13,
      "outputs": []
    },
    {
      "cell_type": "markdown",
      "metadata": {
        "id": "MeITIrD2Dr5x"
      },
      "source": [
        "### Constructing a CNN in Keras"
      ]
    },
    {
      "cell_type": "code",
      "metadata": {
        "id": "O5QvtNhIDr5x"
      },
      "source": [
        "model = tf.keras.Sequential()\n",
        "\n",
        "model.add(tf.keras.layers.Conv2D(\n",
        "    filters=32, kernel_size=(5, 5),\n",
        "    strides=(1, 1), padding='same',\n",
        "    data_format='channels_last',\n",
        "    name='conv_1', activation='relu'))\n",
        "\n",
        "model.add(tf.keras.layers.MaxPool2D(\n",
        "    pool_size=(2, 2), name='pool_1'))\n",
        "    \n",
        "model.add(tf.keras.layers.Conv2D(\n",
        "    filters=64, kernel_size=(5, 5),\n",
        "    strides=(1, 1), padding='same',\n",
        "    name='conv_2', activation='relu'))\n",
        "\n",
        "model.add(tf.keras.layers.MaxPool2D(pool_size=(2, 2), name='pool_2'))\n"
      ],
      "execution_count": 16,
      "outputs": []
    },
    {
      "cell_type": "code",
      "metadata": {
        "id": "teU3QjLmDr5z",
        "colab": {
          "base_uri": "https://localhost:8080/"
        },
        "outputId": "9fbb79eb-73ce-4cba-af21-e182ca5fa084"
      },
      "source": [
        "model.compute_output_shape(input_shape=(16, 28, 28, 1))"
      ],
      "execution_count": 17,
      "outputs": [
        {
          "output_type": "execute_result",
          "data": {
            "text/plain": [
              "TensorShape([16, 7, 7, 64])"
            ]
          },
          "metadata": {},
          "execution_count": 17
        }
      ]
    },
    {
      "cell_type": "code",
      "metadata": {
        "id": "asBaoakTDr51",
        "colab": {
          "base_uri": "https://localhost:8080/"
        },
        "outputId": "b98e87e1-5bef-4c57-a25f-2be685446326"
      },
      "source": [
        "    model.add(tf.keras.layers.Flatten())\n",
        "    \n",
        "model.compute_output_shape(input_shape=(16, 28, 28, 1))"
      ],
      "execution_count": 18,
      "outputs": [
        {
          "output_type": "execute_result",
          "data": {
            "text/plain": [
              "TensorShape([16, 3136])"
            ]
          },
          "metadata": {},
          "execution_count": 18
        }
      ]
    },
    {
      "cell_type": "code",
      "metadata": {
        "id": "pOq75aDTDr54"
      },
      "source": [
        "model.add(tf.keras.layers.Dense(\n",
        "    units=1024, name='fc_1', \n",
        "    activation='relu'))\n",
        "\n",
        "model.add(tf.keras.layers.Dropout(\n",
        "    rate=0.5))\n",
        "    \n",
        "model.add(tf.keras.layers.Dense(\n",
        "    units=10, name='fc_2',\n",
        "    activation='softmax'))"
      ],
      "execution_count": 19,
      "outputs": []
    },
    {
      "cell_type": "code",
      "metadata": {
        "id": "Ay3ZZE47Dr56",
        "colab": {
          "base_uri": "https://localhost:8080/"
        },
        "outputId": "226738af-644c-4276-8792-c651793b874c"
      },
      "source": [
        "tf.random.set_seed(1)\n",
        "model.build(input_shape=(None, 28, 28, 1))\n",
        "\n",
        "model.compute_output_shape(input_shape=(16, 28, 28, 1))\n"
      ],
      "execution_count": 20,
      "outputs": [
        {
          "output_type": "execute_result",
          "data": {
            "text/plain": [
              "TensorShape([16, 10])"
            ]
          },
          "metadata": {},
          "execution_count": 20
        }
      ]
    },
    {
      "cell_type": "code",
      "metadata": {
        "id": "9HGkWV7eDr58",
        "colab": {
          "base_uri": "https://localhost:8080/"
        },
        "outputId": "0da481f4-edc6-461d-d527-702efb50b185"
      },
      "source": [
        "model.summary()"
      ],
      "execution_count": 21,
      "outputs": [
        {
          "output_type": "stream",
          "name": "stdout",
          "text": [
            "Model: \"sequential\"\n",
            "_________________________________________________________________\n",
            "Layer (type)                 Output Shape              Param #   \n",
            "=================================================================\n",
            "conv_1 (Conv2D)              (None, 28, 28, 32)        832       \n",
            "_________________________________________________________________\n",
            "pool_1 (MaxPooling2D)        (None, 14, 14, 32)        0         \n",
            "_________________________________________________________________\n",
            "conv_2 (Conv2D)              (None, 14, 14, 64)        51264     \n",
            "_________________________________________________________________\n",
            "pool_2 (MaxPooling2D)        (None, 7, 7, 64)          0         \n",
            "_________________________________________________________________\n",
            "flatten (Flatten)            (None, 3136)              0         \n",
            "_________________________________________________________________\n",
            "fc_1 (Dense)                 (None, 1024)              3212288   \n",
            "_________________________________________________________________\n",
            "dropout (Dropout)            (None, 1024)              0         \n",
            "_________________________________________________________________\n",
            "fc_2 (Dense)                 (None, 10)                10250     \n",
            "=================================================================\n",
            "Total params: 3,274,634\n",
            "Trainable params: 3,274,634\n",
            "Non-trainable params: 0\n",
            "_________________________________________________________________\n"
          ]
        }
      ]
    },
    {
      "cell_type": "code",
      "metadata": {
        "id": "fES_dLr5Dr5-",
        "colab": {
          "base_uri": "https://localhost:8080/"
        },
        "outputId": "bd26f6e8-4c0e-4b80-c27c-96ff52950261"
      },
      "source": [
        "model.compile(optimizer=tf.keras.optimizers.Adam(),\n",
        "              loss=tf.keras.losses.SparseCategoricalCrossentropy(),\n",
        "              metrics=['accuracy']) # same as `tf.keras.metrics.SparseCategoricalAccuracy(name='accuracy')`\n",
        "\n",
        "history = model.fit(mnist_train, epochs=NUM_EPOCHS, \n",
        "                    validation_data=mnist_valid, \n",
        "                    shuffle=True)"
      ],
      "execution_count": 22,
      "outputs": [
        {
          "output_type": "stream",
          "name": "stdout",
          "text": [
            "Epoch 1/20\n",
            "782/782 [==============================] - 148s 186ms/step - loss: 0.1373 - accuracy: 0.9573 - val_loss: 0.0460 - val_accuracy: 0.9860\n",
            "Epoch 2/20\n",
            "782/782 [==============================] - 142s 180ms/step - loss: 0.0450 - accuracy: 0.9860 - val_loss: 0.0395 - val_accuracy: 0.9882\n",
            "Epoch 3/20\n",
            "782/782 [==============================] - 141s 180ms/step - loss: 0.0293 - accuracy: 0.9909 - val_loss: 0.0381 - val_accuracy: 0.9883\n",
            "Epoch 4/20\n",
            "782/782 [==============================] - 142s 180ms/step - loss: 0.0228 - accuracy: 0.9930 - val_loss: 0.0387 - val_accuracy: 0.9889\n",
            "Epoch 5/20\n",
            "782/782 [==============================] - 141s 180ms/step - loss: 0.0182 - accuracy: 0.9944 - val_loss: 0.0381 - val_accuracy: 0.9900\n",
            "Epoch 6/20\n",
            "782/782 [==============================] - 141s 180ms/step - loss: 0.0160 - accuracy: 0.9946 - val_loss: 0.0380 - val_accuracy: 0.9900\n",
            "Epoch 7/20\n",
            "782/782 [==============================] - 141s 180ms/step - loss: 0.0114 - accuracy: 0.9963 - val_loss: 0.0443 - val_accuracy: 0.9905\n",
            "Epoch 8/20\n",
            "782/782 [==============================] - 141s 180ms/step - loss: 0.0115 - accuracy: 0.9966 - val_loss: 0.0407 - val_accuracy: 0.9901\n",
            "Epoch 9/20\n",
            "782/782 [==============================] - 141s 180ms/step - loss: 0.0103 - accuracy: 0.9967 - val_loss: 0.0489 - val_accuracy: 0.9892\n",
            "Epoch 10/20\n",
            "782/782 [==============================] - 141s 179ms/step - loss: 0.0091 - accuracy: 0.9972 - val_loss: 0.0475 - val_accuracy: 0.9904\n",
            "Epoch 11/20\n",
            "782/782 [==============================] - 141s 180ms/step - loss: 0.0091 - accuracy: 0.9972 - val_loss: 0.0477 - val_accuracy: 0.9897\n",
            "Epoch 12/20\n",
            "782/782 [==============================] - 141s 180ms/step - loss: 0.0083 - accuracy: 0.9972 - val_loss: 0.0451 - val_accuracy: 0.9904\n",
            "Epoch 13/20\n",
            "782/782 [==============================] - 141s 179ms/step - loss: 0.0088 - accuracy: 0.9973 - val_loss: 0.0527 - val_accuracy: 0.9905\n",
            "Epoch 14/20\n",
            "782/782 [==============================] - 141s 179ms/step - loss: 0.0067 - accuracy: 0.9976 - val_loss: 0.0513 - val_accuracy: 0.9905\n",
            "Epoch 15/20\n",
            "782/782 [==============================] - 141s 179ms/step - loss: 0.0066 - accuracy: 0.9978 - val_loss: 0.0568 - val_accuracy: 0.9899\n",
            "Epoch 16/20\n",
            "782/782 [==============================] - 141s 180ms/step - loss: 0.0074 - accuracy: 0.9978 - val_loss: 0.0601 - val_accuracy: 0.9889\n",
            "Epoch 17/20\n",
            "782/782 [==============================] - 141s 179ms/step - loss: 0.0055 - accuracy: 0.9985 - val_loss: 0.0564 - val_accuracy: 0.9909\n",
            "Epoch 18/20\n",
            "782/782 [==============================] - 141s 179ms/step - loss: 0.0072 - accuracy: 0.9980 - val_loss: 0.0752 - val_accuracy: 0.9882\n",
            "Epoch 19/20\n",
            "782/782 [==============================] - 141s 179ms/step - loss: 0.0056 - accuracy: 0.9981 - val_loss: 0.0771 - val_accuracy: 0.9878\n",
            "Epoch 20/20\n",
            "782/782 [==============================] - 141s 180ms/step - loss: 0.0069 - accuracy: 0.9980 - val_loss: 0.0635 - val_accuracy: 0.9898\n"
          ]
        }
      ]
    },
    {
      "cell_type": "code",
      "metadata": {
        "id": "EdCeHnoWDr6B",
        "colab": {
          "base_uri": "https://localhost:8080/",
          "height": 286
        },
        "outputId": "76e16689-468f-4fa4-b639-6f2ddbae95e5"
      },
      "source": [
        "import numpy as np\n",
        "hist = history.history\n",
        "x_arr = np.arange(len(hist['loss'])) + 1\n",
        "\n",
        "fig = plt.figure(figsize=(12, 4))\n",
        "ax = fig.add_subplot(1, 2, 1)\n",
        "ax.plot(x_arr, hist['loss'], '-o', label='Train loss')\n",
        "ax.plot(x_arr, hist['val_loss'], '--<', label='Validation loss')\n",
        "ax.set_xlabel('Epoch', size=15)\n",
        "ax.set_ylabel('Loss', size=15)\n",
        "ax.legend(fontsize=15)\n",
        "ax = fig.add_subplot(1, 2, 2)\n",
        "ax.plot(x_arr, hist['accuracy'], '-o', label='Train acc.')\n",
        "ax.plot(x_arr, hist['val_accuracy'], '--<', label='Validation acc.')\n",
        "ax.legend(fontsize=15)\n",
        "ax.set_xlabel('Epoch', size=15)\n",
        "ax.set_ylabel('Accuracy', size=15)\n",
        "\n",
        "plt.show()"
      ],
      "execution_count": 24,
      "outputs": [
        {
          "output_type": "display_data",
          "data": {
            "image/png": "[encoded data removed]",
            "text/plain": [
              "<Figure size 864x288 with 2 Axes>"
            ]
          },
          "metadata": {
            "needs_background": "light"
          }
        }
      ]
    },
    {
      "cell_type": "code",
      "metadata": {
        "id": "OxB2jFjlDr6D",
        "colab": {
          "base_uri": "https://localhost:8080/"
        },
        "outputId": "6baad245-6adc-423a-989c-e653d606be89"
      },
      "source": [
        "test_results = model.evaluate(mnist_test.batch(20))\n",
        "print('\\nTest Acc. {:.2f}%'.format(test_results[1]*100))"
      ],
      "execution_count": 25,
      "outputs": [
        {
          "output_type": "stream",
          "name": "stdout",
          "text": [
            "500/500 [==============================] - 10s 19ms/step - loss: 0.0409 - accuracy: 0.9923\n",
            "\n",
            "Test Acc. 99.23%\n"
          ]
        }
      ]
    },
    {
      "cell_type": "code",
      "metadata": {
        "id": "pI0MfCIfDr6G",
        "colab": {
          "base_uri": "https://localhost:8080/",
          "height": 265
        },
        "outputId": "c1c2714f-be07-45f4-fb09-a9c0d5e3fc60"
      },
      "source": [
        "batch_test = next(iter(mnist_test.batch(20)))\n",
        "\n",
        "preds = model(batch_test[0])\n",
        "\n",
        "tf.print(preds.shape)\n",
        "\n",
        "preds = tf.argmax(preds, axis=1)\n",
        "#print(preds)\n",
        "\n",
        "fig = plt.figure(figsize=(20, 4))\n",
        "for i in range(20):\n",
        "    ax = fig.add_subplot(2,10, i+1)\n",
        "    ax.set_xticks([]); ax.set_yticks([])\n",
        "    img = batch_test[0][i, :, :, 0]\n",
        "    ax.imshow(img, cmap='gray_r')\n",
        "    ax.text(0.9, 0.1, '{}'.format(preds[i]), \n",
        "            size=15, color='blue',\n",
        "            horizontalalignment='center',\n",
        "            verticalalignment='center', \n",
        "            transform=ax.transAxes)\n",
        "    \n",
        "#plt.savefig('figures/15_13.png', dpi=300)\n",
        "#plt.show()"
      ],
      "execution_count": 29,
      "outputs": [
        {
          "output_type": "stream",
          "name": "stdout",
          "text": [
            "TensorShape([20, 10])\n"
          ]
        },
        {
          "output_type": "display_data",
          "data": {
            "image/png": "[encoded data removed]",
            "text/plain": [
              "<Figure size 1440x288 with 20 Axes>"
            ]
          },
          "metadata": {}
        }
      ]
    },
    {
      "cell_type": "code",
      "metadata": {
        "id": "wPJu43-oMMI_",
        "colab": {
          "base_uri": "https://localhost:8080/",
          "height": 282
        },
        "outputId": "e53a56f2-3f2a-4545-b1ca-7ac3febeff94"
      },
      "source": [
        "tuple=next(iter(mnist_test))\n",
        "plt.imshow(tuple[0][:,:,0])\n",
        "print(tuple[1].numpy())"
      ],
      "execution_count": 30,
      "outputs": [
        {
          "output_type": "stream",
          "name": "stdout",
          "text": [
            "2\n"
          ]
        },
        {
          "output_type": "display_data",
          "data": {
            "image/png": "[encoded data removed]",
            "text/plain": [
              "<Figure size 432x288 with 1 Axes>"
            ]
          },
          "metadata": {
            "needs_background": "light"
          }
        }
      ]
    },
    {
      "cell_type": "code",
      "metadata": {
        "id": "M1LMS0TXNfce",
        "colab": {
          "base_uri": "https://localhost:8080/"
        },
        "outputId": "5a8232a8-698f-47ef-f7e7-9eb5deb1b54d"
      },
      "source": [
        "import tensorflow as tf\n",
        "\n",
        "Ds=iter(mnist_test.batch(1))\n",
        "c=0\n",
        "for i in range (1000):\n",
        "\n",
        "   batch_test=next(Ds)\n",
        "   preds=model(batch_test[0])\n",
        "   preds=tf.argmax(preds, axis=1)\n",
        "   if preds[0].numpy() != batch_test[1][0].numpy(): \n",
        "     c =c+1\n",
        "     tf.print(i)\n",
        "     print(c)"
      ],
      "execution_count": 31,
      "outputs": [
        {
          "output_type": "stream",
          "name": "stdout",
          "text": [
            "30\n",
            "1\n",
            "98\n",
            "2\n",
            "226\n",
            "3\n",
            "454\n",
            "4\n",
            "588\n",
            "5\n",
            "659\n",
            "6\n",
            "871\n",
            "7\n",
            "941\n",
            "8\n"
          ]
        }
      ]
    },
    {
      "cell_type": "code",
      "metadata": {
        "id": "4Ud6re_rTiPD",
        "colab": {
          "base_uri": "https://localhost:8080/",
          "height": 537
        },
        "outputId": "ddf378e4-94fd-45d5-b525-f86b1041de9d"
      },
      "source": [
        "ds = iter(mnist_test.batch(1))\n",
        "count = 0\n",
        "\n",
        "for i in range(1000):\n",
        "   batch_test = next(ds)\n",
        "   preds = model(batch_test[0])\n",
        "   preds = tf.argmax(preds, axis=1)\n",
        "   if preds[0].numpy() != batch_test[1][0].numpy():\n",
        "      count += 1\n",
        "      print('Found a mistake for element', i)\n",
        "      tf.print('predicted value', preds[0], 'true, value:', batch_test[1][0])\n",
        "      if count == 2:\n",
        "          plt.imshow(batch_test[0][0, :, :, 0])"
      ],
      "execution_count": 32,
      "outputs": [
        {
          "output_type": "stream",
          "name": "stdout",
          "text": [
            "Found a mistake for element 30\n",
            "predicted value 0 true, value: 9\n",
            "Found a mistake for element 98\n",
            "predicted value 1 true, value: 7\n",
            "Found a mistake for element 226\n",
            "predicted value 0 true, value: 2\n",
            "Found a mistake for element 454\n",
            "predicted value 6 true, value: 0\n",
            "Found a mistake for element 588\n",
            "predicted value 9 true, value: 8\n",
            "Found a mistake for element 659\n",
            "predicted value 1 true, value: 2\n",
            "Found a mistake for element 871\n",
            "predicted value 2 true, value: 8\n",
            "Found a mistake for element 941\n",
            "predicted value 2 true, value: 8\n"
          ]
        },
        {
          "output_type": "display_data",
          "data": {
            "image/png": "[encoded data removed]",
            "text/plain": [
              "<Figure size 432x288 with 1 Axes>"
            ]
          },
          "metadata": {
            "needs_background": "light"
          }
        }
      ]
    },
    {
      "cell_type": "code",
      "metadata": {
        "id": "BYoj9ienDr6K"
      },
      "source": [
        "import os\n",
        "\n",
        "if not os.path.exists('models'):\n",
        "    os.mkdir('models')\n",
        "\n",
        "\n",
        "model.save('models/mnist-cnn.h5')"
      ],
      "execution_count": 33,
      "outputs": []
    }
  ]
}